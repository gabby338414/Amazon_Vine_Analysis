{
  "nbformat": 4,
  "nbformat_minor": 0,
  "metadata": {
    "colab": {
      "name": "Vine_Review_Analysis.ipynb",
      "provenance": [],
      "collapsed_sections": [],
      "authorship_tag": "ABX9TyNMqpZYrMDY9kMAdTCLr0dz",
      "include_colab_link": true
    },
    "kernelspec": {
      "name": "python3",
      "display_name": "Python 3"
    },
    "language_info": {
      "name": "python"
    }
  },
  "cells": [
    {
      "cell_type": "markdown",
      "metadata": {
        "id": "view-in-github",
        "colab_type": "text"
      },
      "source": [
        "<a href=\"https://colab.research.google.com/github/gabby338414/Amazon_Vine_Analysis/blob/main/Vine_Review_Analysis.ipynb\" target=\"_parent\"><img src=\"https://colab.research.google.com/assets/colab-badge.svg\" alt=\"Open In Colab\"/></a>"
      ]
    },
    {
      "cell_type": "code",
      "metadata": {
        "colab": {
          "base_uri": "https://localhost:8080/"
        },
        "id": "cOCp3noU3bCW",
        "outputId": "32a5cd86-5660-4d5e-9255-a609934332d5"
      },
      "source": [
        "import os\n",
        "# Find the latest version of spark 3.0 from http://www.apache.org/dist/spark/ and enter as the spark version\n",
        "# For example:\n",
        "# spark_version = 'spark-3.0.3'\n",
        "spark_version = 'spark-3.1.2'\n",
        "os.environ['SPARK_VERSION']=spark_version\n",
        "\n",
        "# Install Spark and Java\n",
        "!apt-get update\n",
        "!apt-get install openjdk-11-jdk-headless -qq > /dev/null\n",
        "!wget -q http://www.apache.org/dist/spark/$SPARK_VERSION/$SPARK_VERSION-bin-hadoop2.7.tgz\n",
        "!tar xf $SPARK_VERSION-bin-hadoop2.7.tgz\n",
        "!pip install -q findspark\n",
        "\n",
        "# Set Environment Variables\n",
        "import os\n",
        "os.environ[\"JAVA_HOME\"] = \"/usr/lib/jvm/java-11-openjdk-amd64\"\n",
        "os.environ[\"SPARK_HOME\"] = f\"/content/{spark_version}-bin-hadoop2.7\"\n",
        "\n",
        "# Start a SparkSession\n",
        "import findspark\n",
        "findspark.init()"
      ],
      "execution_count": 5,
      "outputs": [
        {
          "output_type": "stream",
          "text": [
            "\r0% [Working]\r            \rIgn:1 https://developer.download.nvidia.com/compute/cuda/repos/ubuntu1804/x86_64  InRelease\n",
            "\r0% [Connecting to archive.ubuntu.com] [Waiting for headers] [Connected to cloud\r                                                                               \rHit:2 http://security.ubuntu.com/ubuntu bionic-security InRelease\n",
            "\r0% [Connecting to archive.ubuntu.com] [Connected to cloud.r-project.org (13.225\r0% [2 InRelease gpgv 88.7 kB] [Connecting to archive.ubuntu.com (91.189.88.142)\r                                                                               \rHit:3 https://cloud.r-project.org/bin/linux/ubuntu bionic-cran40/ InRelease\n",
            "\r0% [2 InRelease gpgv 88.7 kB] [Connecting to archive.ubuntu.com (91.189.88.142)\r                                                                               \rIgn:4 https://developer.download.nvidia.com/compute/machine-learning/repos/ubuntu1804/x86_64  InRelease\n",
            "Hit:5 https://developer.download.nvidia.com/compute/cuda/repos/ubuntu1804/x86_64  Release\n",
            "Hit:6 https://developer.download.nvidia.com/compute/machine-learning/repos/ubuntu1804/x86_64  Release\n",
            "Hit:7 http://ppa.launchpad.net/c2d4u.team/c2d4u4.0+/ubuntu bionic InRelease\n",
            "Hit:8 http://archive.ubuntu.com/ubuntu bionic InRelease\n",
            "Hit:9 http://archive.ubuntu.com/ubuntu bionic-updates InRelease\n",
            "Hit:10 http://ppa.launchpad.net/cran/libgit2/ubuntu bionic InRelease\n",
            "Hit:11 http://archive.ubuntu.com/ubuntu bionic-backports InRelease\n",
            "Hit:12 http://ppa.launchpad.net/deadsnakes/ppa/ubuntu bionic InRelease\n",
            "Hit:14 http://ppa.launchpad.net/graphics-drivers/ppa/ubuntu bionic InRelease\n",
            "Reading package lists... Done\n"
          ],
          "name": "stdout"
        }
      ]
    },
    {
      "cell_type": "code",
      "metadata": {
        "colab": {
          "base_uri": "https://localhost:8080/"
        },
        "id": "2JtKCIiB1d1E",
        "outputId": "9e301e24-8e30-4b92-f258-5da2abcc6f20"
      },
      "source": [
        "#Download Postgres driver-allow Spark to interact with Postgres\n",
        "!wget https://jdbc.postgresql.org/download/postgresql-42.2.16.jar"
      ],
      "execution_count": 6,
      "outputs": [
        {
          "output_type": "stream",
          "text": [
            "--2021-08-15 22:12:33--  https://jdbc.postgresql.org/download/postgresql-42.2.16.jar\n",
            "Resolving jdbc.postgresql.org (jdbc.postgresql.org)... 72.32.157.228, 2001:4800:3e1:1::228\n",
            "Connecting to jdbc.postgresql.org (jdbc.postgresql.org)|72.32.157.228|:443... connected.\n",
            "HTTP request sent, awaiting response... 200 OK\n",
            "Length: 1002883 (979K) [application/java-archive]\n",
            "Saving to: ‘postgresql-42.2.16.jar’\n",
            "\n",
            "postgresql-42.2.16. 100%[===================>] 979.38K  --.-KB/s    in 0.08s   \n",
            "\n",
            "2021-08-15 22:12:34 (11.4 MB/s) - ‘postgresql-42.2.16.jar’ saved [1002883/1002883]\n",
            "\n"
          ],
          "name": "stdout"
        }
      ]
    },
    {
      "cell_type": "code",
      "metadata": {
        "id": "S14FXldK1k6m"
      },
      "source": [
        "#start Spark session, with additional option adds driver to Spark\n",
        "from pyspark.sql import SparkSession\n",
        "spark = SparkSession.builder.appName(\"CloudETL\").config(\"spark.driver.extraClassPath\",\"/content/postgresql-42.2.16.jar\").getOrCreate()"
      ],
      "execution_count": 7,
      "outputs": []
    },
    {
      "cell_type": "code",
      "metadata": {
        "colab": {
          "base_uri": "https://localhost:8080/"
        },
        "id": "WRHQWMB41qSN",
        "outputId": "74b21d0f-b80c-4ba1-a899-51365d8d2af9"
      },
      "source": [
        "# Read in data from S3 Buckets\n",
        "from pyspark import SparkFiles\n",
        "url =\"https://s3.amazonaws.com/amazon-reviews-pds/tsv/amazon_reviews_us_Jewelry_v1_00.tsv.gz\"\n",
        "spark.sparkContext.addFile(url)\n",
        "df = spark.read.option(\"encoding\", \"UTF-8\").csv(SparkFiles.get(\"\"), sep=\"\\t\", header=True, inferSchema=True)\n",
        "df.show()"
      ],
      "execution_count": 8,
      "outputs": [
        {
          "output_type": "stream",
          "text": [
            "+-----------+-----------+--------------+----------+--------------+--------------------+----------------+-----------+-------------+-----------+----+-----------------+--------------------+--------------------+-----------+\n",
            "|marketplace|customer_id|     review_id|product_id|product_parent|       product_title|product_category|star_rating|helpful_votes|total_votes|vine|verified_purchase|     review_headline|         review_body|review_date|\n",
            "+-----------+-----------+--------------+----------+--------------+--------------------+----------------+-----------+-------------+-----------+----+-----------------+--------------------+--------------------+-----------+\n",
            "|         US|   50423057|R135Q3VZ4DQN5N|B00JWXFDMG|     657335467|Everbling Purple ...|         Jewelry|          5|            0|          0|   N|                Y|           Beauties!|so beautiful even...| 2015-08-31|\n",
            "|         US|   11262325|R2N0QQ6R4T7YRY|B00W5T1H9W|      26030170|925 Sterling Silv...|         Jewelry|          5|            0|          0|   N|                N|      Great product.|Great product.. I...| 2015-08-31|\n",
            "|         US|   27541121|R3N5JE5Y4T6W5M|B00M2L6KFY|     697845240|Sterling Silver C...|         Jewelry|          5|            0|          0|   N|                Y|Exactly as pictur...|Exactly as pictur...| 2015-08-31|\n",
            "|         US|    5350721|R2I150CX5IVY9Q|B0006SW2WU|     569859289|Surgical Stainles...|         Jewelry|          5|            0|          0|   N|                Y|          Five Stars|Love it. Fits gre...| 2015-08-31|\n",
            "|         US|   24484424|R1RM9ICOOA9MQ3|B009YPDW70|     332947422|Sterling Silver F...|         Jewelry|          5|            0|          0|   N|                Y|... a Mother's Da...|Got this as a Mot...| 2015-08-31|\n",
            "|         US|     457767|R2J2KMDL10UMSH|B00QGA8XZM|     424804582|CHOOSE YOUR COLOR...|         Jewelry|          5|            0|          0|   N|                Y|          Five Stars|I Love It Make Me...| 2015-08-31|\n",
            "|         US|   31009358|R3R9ZUFA4TB4FQ|B00L0N0E8E|     589441783|Metal Factory 925...|         Jewelry|          5|            0|          0|   N|                Y|          Five Stars|True to size, unique| 2015-08-31|\n",
            "|         US|    7034628|R3UQ8VAQN7R6WL|B00DMWQKWA|     517428445|niceEshop(TM)Clas...|         Jewelry|          5|            0|          0|   N|                Y|          Five Stars|This necklace is ...| 2015-08-31|\n",
            "|         US|   34608636|R1FXZ69C01JNQM|B00THLHAGA|     320313750|Genuine Natural B...|         Jewelry|          5|            0|          0|   N|                Y|          Five Stars|        just perfect| 2015-08-31|\n",
            "|         US|   44972687| RY36LB4OW0FFS|B00UXSEOHY|     589365488|MBOX Expandable A...|         Jewelry|          5|            0|          0|   N|                Y|          Five Stars|           Love it !| 2015-08-31|\n",
            "|         US|   16684508| R6PKS54PC6ZY2|B00XGRYGVS|     217045013|Set of 3 Nose Rin...|         Jewelry|          1|            4|          4|   N|                Y|I had high hopes ...|They didn't even ...| 2015-08-31|\n",
            "|         US|   23493178|R1LYSAH0IECVWB|B00AJ2VU8A|     972853757|3-row White A Gra...|         Jewelry|          5|            0|          0|   N|                Y|This is a real ni...|This is a real ni...| 2015-08-31|\n",
            "|         US|     108294|R1UN0IZI3XQ3E2|B00LE5Y100|     979375701|KONOV Mens Stainl...|         Jewelry|          5|            2|          3|   N|                Y|             AMAZING|This is a very co...| 2015-08-31|\n",
            "|         US|   25810742| RIKDXD8QGL99S|B013E0AOH6|     619592796|TEMEGO Jewelry Me...|         Jewelry|          5|            1|          1|   N|                Y|          Five Stars|Great quality for...| 2015-08-31|\n",
            "|         US|   12037665| RUZCQTXZVGUFH|B00XAWUP96|     783863439|Royal Blue/White ...|         Jewelry|          4|            1|          1|   N|                Y|A Little Smaller ...|I like the bracel...| 2015-08-31|\n",
            "|         US|   51793466|R35CD4IHO3RP9H|B00WD82F1O|     655270378|10-11mm Baroque F...|         Jewelry|          5|            1|          1|   N|                Y|Pretty and Versatile|This is pretty an...| 2015-08-31|\n",
            "|         US|     127508|R13YD66XC9221U|B00JP4XCSO|     592155747|Sankuwen® Fashion...|         Jewelry|          1|            0|          0|   N|                N|Don't get this li...|Don't get this li...| 2015-08-31|\n",
            "|         US|   38430946| RHWG4JRVDSEYY|B00PZSM384|     622179716|zjskin6688 store ...|         Jewelry|          3|            1|          1|   N|                Y|         Three Stars|Not what I expect...| 2015-08-31|\n",
            "|         US|   33684654|R3SPIKMJ5IWHX8|B00VLMW18K|      36759824|Scheppend Polymer...|         Jewelry|          4|            0|          0|   N|                Y|          Four Stars|Bought these for ...| 2015-08-31|\n",
            "|         US|    5068631| RS19ACU7KWWNE|B00U5LDBB4|     575109200|Horizontal Sidewa...|         Jewelry|          5|            1|          1|   N|                Y|          Five Stars|Pretty, and very ...| 2015-08-31|\n",
            "+-----------+-----------+--------------+----------+--------------+--------------------+----------------+-----------+-------------+-----------+----+-----------------+--------------------+--------------------+-----------+\n",
            "only showing top 20 rows\n",
            "\n"
          ],
          "name": "stdout"
        }
      ]
    },
    {
      "cell_type": "code",
      "metadata": {
        "colab": {
          "base_uri": "https://localhost:8080/"
        },
        "id": "-6OPMuO62B5_",
        "outputId": "19d4dbd1-b997-4145-c65e-c410832d9cb4"
      },
      "source": [
        "#Load in a sql function to use columns\n",
        "from pyspark.sql.functions import col\n",
        "#Filter\n",
        "total_votes_df = df.filter(col(\"total_votes\") >= 20)\n",
        "total_votes_df.show()"
      ],
      "execution_count": 9,
      "outputs": [
        {
          "output_type": "stream",
          "text": [
            "+-----------+-----------+--------------+----------+--------------+--------------------+----------------+-----------+-------------+-----------+----+-----------------+--------------------+--------------------+-----------+\n",
            "|marketplace|customer_id|     review_id|product_id|product_parent|       product_title|product_category|star_rating|helpful_votes|total_votes|vine|verified_purchase|     review_headline|         review_body|review_date|\n",
            "+-----------+-----------+--------------+----------+--------------+--------------------+----------------+-----------+-------------+-----------+----+-----------------+--------------------+--------------------+-----------+\n",
            "|         US|   18238567|R16YC6SMGKA8SR|B00MD99R9G|     692935467|Fun Daisy New Des...|         Jewelry|          5|           23|         23|   N|                Y|Beautiful stateme...|This is the first...| 2015-08-31|\n",
            "|         US|   35346149| R5O4WE9UM60B0|B00Q8BYTAW|      48877050|Women's New Simpl...|         Jewelry|          1|           29|         29|   N|                Y|I did expect it t...|Let me preface th...| 2015-08-31|\n",
            "|         US|   41095424|R2EKRVCRC7U0IY|B00PJIPZGW|     677765845|Antique Brass Ton...|         Jewelry|          1|           22|         24|   N|                Y|            One Star|Poor quality!<br ...| 2015-08-31|\n",
            "|         US|    4039595|R2OKV47GETH0L7|B00VUTQVDK|     939458680|Jewelrieshop Stai...|         Jewelry|          5|           24|         24|   N|                Y|     Great ear studs|These are great. ...| 2015-08-31|\n",
            "|         US|   38319820| R36LII9IITE17|B00MB9YCDO|     367067706|ArRord Beautiful ...|         Jewelry|          1|           22|         24|   N|                Y|              AWFUL!|Took 4 weeks to a...| 2015-08-31|\n",
            "|         US|   18658991|R35VKNE16PFY0H|B00YFNZYDG|     670585095|Bracelets For Wom...|         Jewelry|          5|           22|         24|   N|                N|Luckily I found t...|[[VIDEOID:6e75766...| 2015-08-30|\n",
            "|         US|     421300|R3TG008LHHZZIN|B00FZOTLC4|     350810365|14k Yellow Gold B...|         Jewelry|          5|          123|        125|   N|                Y|    Sweet and simple|[[VIDEOID:66915b7...| 2015-08-30|\n",
            "|         US|    9330212|R2FYQBKCC1XG4M|B009P4G8U8|      80161480|Sterling Silver R...|         Jewelry|          5|           20|         20|   N|                Y|          Five Stars|Gorgeous!! Very s...| 2015-08-30|\n",
            "|         US|   14873596| R63PV336NI5X7|B00UDF11O6|     712133361|Fashion Brand 925...|         Jewelry|          1|           27|         28|   N|                Y|     Broken bracelet|The bracelet brok...| 2015-08-29|\n",
            "|         US|    1278386|R1R42WPHB5ZSWI|B007VFHOQ0|     201950929|Steampunk FIRE ne...|         Jewelry|          5|           51|         52|   N|                Y|Lovely, don't lis...|This is a gorgeou...| 2015-08-29|\n",
            "|         US|     156241| RXSS0QZJE1TEO|B00VNDYPSQ|     690721039|Fashion Jewelry B...|         Jewelry|          1|           35|         35|   N|                Y|            One Star|Buckle was very w...| 2015-08-29|\n",
            "|         US|    2659922| RGS9C5XKWVYP9|B00FBAR1X8|     293039249|10KT White Gold P...|         Jewelry|          1|           24|         24|   N|                Y| unfortunated defect|I was excited to ...| 2015-08-29|\n",
            "|         US|   24596251|R3R5BWMKH1EUIQ|B010QAMEFM|     673336713|CZ Crystal Leaves...|         Jewelry|          5|           26|         27|   N|                N|      Elegant design|Elegant design. I...| 2015-08-29|\n",
            "|         US|    6026413|R2KBDT7RGO1G86|B00BLRNZNK|     228968920|1.50 Carat Round ...|         Jewelry|          3|           33|         39|   N|                Y|It's a beautiful ...|It's a beautiful ...| 2015-08-29|\n",
            "|         US|   14287196|R2WA09RFYT69GB|B00KHWJEFS|     410889586|20 Pieces Plugs S...|         Jewelry|          5|           21|         22|   N|                Y|Insane price, fas...|These are great! ...| 2015-08-29|\n",
            "|         US|   34811153| RYNTUAMCHU3W4|B00UUQ6C5G|     455061130|Rinhoo Random Cha...|         Jewelry|          5|           22|         22|   N|                Y|    Absolutely great|I don't normally ...| 2015-08-29|\n",
            "|         US|   13165713|R3U5NCDM6NLHLC|B00GN3N4EM|     780515323|1.45 Carat (ctw) ...|         Jewelry|          5|           29|         30|   N|                Y|Great Price on a ...|It really is a be...| 2015-08-28|\n",
            "|         US|   45512891| R8708W8U0Z89A|B011W7X1PK|     721871970|Ring Resizer, Rin...|         Jewelry|          2|           37|         38|   N|                Y|I'll pay for inno...|Unlike the other ...| 2015-08-28|\n",
            "|         US|   19703321| RFT7R66D3SA54|B00P8I61NO|     848363259|18k Plated Stainl...|         Jewelry|          5|           23|         24|   N|                Y|              Great!|I ordered the ros...| 2015-08-28|\n",
            "|         US|   42190015|R1OI5TTOS49U8R|B00KR7MLHG|     380199757|Charm.L Grace Cla...|         Jewelry|          5|           33|         34|   N|                Y|                  😍|Stunning! Worth e...| 2015-08-28|\n",
            "+-----------+-----------+--------------+----------+--------------+--------------------+----------------+-----------+-------------+-----------+----+-----------------+--------------------+--------------------+-----------+\n",
            "only showing top 20 rows\n",
            "\n"
          ],
          "name": "stdout"
        }
      ]
    },
    {
      "cell_type": "code",
      "metadata": {
        "colab": {
          "base_uri": "https://localhost:8080/"
        },
        "id": "eOusbodm2Cxr",
        "outputId": "281d1445-4746-4249-8cc4-689bdf3810c9"
      },
      "source": [
        "#Helpful votes by total votes\n",
        "new_df = total_votes_df.filter(col(\"helpful_votes\")/col(\"total_votes\") >= .50)\n",
        "new_df.show()"
      ],
      "execution_count": 10,
      "outputs": [
        {
          "output_type": "stream",
          "text": [
            "+-----------+-----------+--------------+----------+--------------+--------------------+----------------+-----------+-------------+-----------+----+-----------------+--------------------+--------------------+-----------+\n",
            "|marketplace|customer_id|     review_id|product_id|product_parent|       product_title|product_category|star_rating|helpful_votes|total_votes|vine|verified_purchase|     review_headline|         review_body|review_date|\n",
            "+-----------+-----------+--------------+----------+--------------+--------------------+----------------+-----------+-------------+-----------+----+-----------------+--------------------+--------------------+-----------+\n",
            "|         US|   18238567|R16YC6SMGKA8SR|B00MD99R9G|     692935467|Fun Daisy New Des...|         Jewelry|          5|           23|         23|   N|                Y|Beautiful stateme...|This is the first...| 2015-08-31|\n",
            "|         US|   35346149| R5O4WE9UM60B0|B00Q8BYTAW|      48877050|Women's New Simpl...|         Jewelry|          1|           29|         29|   N|                Y|I did expect it t...|Let me preface th...| 2015-08-31|\n",
            "|         US|   41095424|R2EKRVCRC7U0IY|B00PJIPZGW|     677765845|Antique Brass Ton...|         Jewelry|          1|           22|         24|   N|                Y|            One Star|Poor quality!<br ...| 2015-08-31|\n",
            "|         US|    4039595|R2OKV47GETH0L7|B00VUTQVDK|     939458680|Jewelrieshop Stai...|         Jewelry|          5|           24|         24|   N|                Y|     Great ear studs|These are great. ...| 2015-08-31|\n",
            "|         US|   38319820| R36LII9IITE17|B00MB9YCDO|     367067706|ArRord Beautiful ...|         Jewelry|          1|           22|         24|   N|                Y|              AWFUL!|Took 4 weeks to a...| 2015-08-31|\n",
            "|         US|   18658991|R35VKNE16PFY0H|B00YFNZYDG|     670585095|Bracelets For Wom...|         Jewelry|          5|           22|         24|   N|                N|Luckily I found t...|[[VIDEOID:6e75766...| 2015-08-30|\n",
            "|         US|     421300|R3TG008LHHZZIN|B00FZOTLC4|     350810365|14k Yellow Gold B...|         Jewelry|          5|          123|        125|   N|                Y|    Sweet and simple|[[VIDEOID:66915b7...| 2015-08-30|\n",
            "|         US|    9330212|R2FYQBKCC1XG4M|B009P4G8U8|      80161480|Sterling Silver R...|         Jewelry|          5|           20|         20|   N|                Y|          Five Stars|Gorgeous!! Very s...| 2015-08-30|\n",
            "|         US|   14873596| R63PV336NI5X7|B00UDF11O6|     712133361|Fashion Brand 925...|         Jewelry|          1|           27|         28|   N|                Y|     Broken bracelet|The bracelet brok...| 2015-08-29|\n",
            "|         US|    1278386|R1R42WPHB5ZSWI|B007VFHOQ0|     201950929|Steampunk FIRE ne...|         Jewelry|          5|           51|         52|   N|                Y|Lovely, don't lis...|This is a gorgeou...| 2015-08-29|\n",
            "|         US|     156241| RXSS0QZJE1TEO|B00VNDYPSQ|     690721039|Fashion Jewelry B...|         Jewelry|          1|           35|         35|   N|                Y|            One Star|Buckle was very w...| 2015-08-29|\n",
            "|         US|    2659922| RGS9C5XKWVYP9|B00FBAR1X8|     293039249|10KT White Gold P...|         Jewelry|          1|           24|         24|   N|                Y| unfortunated defect|I was excited to ...| 2015-08-29|\n",
            "|         US|   24596251|R3R5BWMKH1EUIQ|B010QAMEFM|     673336713|CZ Crystal Leaves...|         Jewelry|          5|           26|         27|   N|                N|      Elegant design|Elegant design. I...| 2015-08-29|\n",
            "|         US|    6026413|R2KBDT7RGO1G86|B00BLRNZNK|     228968920|1.50 Carat Round ...|         Jewelry|          3|           33|         39|   N|                Y|It's a beautiful ...|It's a beautiful ...| 2015-08-29|\n",
            "|         US|   14287196|R2WA09RFYT69GB|B00KHWJEFS|     410889586|20 Pieces Plugs S...|         Jewelry|          5|           21|         22|   N|                Y|Insane price, fas...|These are great! ...| 2015-08-29|\n",
            "|         US|   34811153| RYNTUAMCHU3W4|B00UUQ6C5G|     455061130|Rinhoo Random Cha...|         Jewelry|          5|           22|         22|   N|                Y|    Absolutely great|I don't normally ...| 2015-08-29|\n",
            "|         US|   13165713|R3U5NCDM6NLHLC|B00GN3N4EM|     780515323|1.45 Carat (ctw) ...|         Jewelry|          5|           29|         30|   N|                Y|Great Price on a ...|It really is a be...| 2015-08-28|\n",
            "|         US|   45512891| R8708W8U0Z89A|B011W7X1PK|     721871970|Ring Resizer, Rin...|         Jewelry|          2|           37|         38|   N|                Y|I'll pay for inno...|Unlike the other ...| 2015-08-28|\n",
            "|         US|   19703321| RFT7R66D3SA54|B00P8I61NO|     848363259|18k Plated Stainl...|         Jewelry|          5|           23|         24|   N|                Y|              Great!|I ordered the ros...| 2015-08-28|\n",
            "|         US|   42190015|R1OI5TTOS49U8R|B00KR7MLHG|     380199757|Charm.L Grace Cla...|         Jewelry|          5|           33|         34|   N|                Y|                  😍|Stunning! Worth e...| 2015-08-28|\n",
            "+-----------+-----------+--------------+----------+--------------+--------------------+----------------+-----------+-------------+-----------+----+-----------------+--------------------+--------------------+-----------+\n",
            "only showing top 20 rows\n",
            "\n"
          ],
          "name": "stdout"
        }
      ]
    },
    {
      "cell_type": "code",
      "metadata": {
        "colab": {
          "base_uri": "https://localhost:8080/"
        },
        "id": "iKi1cmhP2IgX",
        "outputId": "195ab318-239b-4a08-e260-bcb16df88d31"
      },
      "source": [
        "# part of Vine Program\n",
        "vine_df = new_df.filter(col(\"vine\") == \"Y\")\n",
        "vine_df.show(5)"
      ],
      "execution_count": 11,
      "outputs": [
        {
          "output_type": "stream",
          "text": [
            "+-----------+-----------+--------------+----------+--------------+--------------------+----------------+-----------+-------------+-----------+----+-----------------+--------------------+--------------------+-----------+\n",
            "|marketplace|customer_id|     review_id|product_id|product_parent|       product_title|product_category|star_rating|helpful_votes|total_votes|vine|verified_purchase|     review_headline|         review_body|review_date|\n",
            "+-----------+-----------+--------------+----------+--------------+--------------------+----------------+-----------+-------------+-----------+----+-----------------+--------------------+--------------------+-----------+\n",
            "|         US|   51635935|R15PXA9XU9ZKSU|B00TDNZV4A|     280424829|Sterling Silver C...|         Jewelry|          4|           29|         29|   Y|                N|So classy and gor...|You can wear thes...| 2015-05-09|\n",
            "|         US|   52833354|R2LJ4QYQ4PYDEH|B00TDNZUYG|     280424829|Sterling Silver C...|         Jewelry|          5|           24|         26|   Y|                N|           Stunning!|I was very pleasa...| 2015-05-06|\n",
            "|         US|   28779404|R2PJWWQZ37WCIC|B00S5VKNIA|     940533137|Sterling Silver F...|         Jewelry|          5|           95|         96|   Y|                N| Perfect for Gifting|These earrings co...| 2015-03-08|\n",
            "|         US|   52539517|R33G2VDKRN2USY|B00S5VKNIA|     940533137|Sterling Silver F...|         Jewelry|          5|           21|         21|   Y|                N|beautiful texturi...|I ordered these e...| 2015-03-08|\n",
            "|         US|   16216813|R13R4X37T2U50A|B00M0NZKSC|     325259179|Sterling Silver M...|         Jewelry|          4|           52|         57|   Y|                N|        A neat idea!|This pendant is v...| 2014-10-17|\n",
            "+-----------+-----------+--------------+----------+--------------+--------------------+----------------+-----------+-------------+-----------+----+-----------------+--------------------+--------------------+-----------+\n",
            "only showing top 5 rows\n",
            "\n"
          ],
          "name": "stdout"
        }
      ]
    },
    {
      "cell_type": "code",
      "metadata": {
        "colab": {
          "base_uri": "https://localhost:8080/"
        },
        "id": "_717pOlk2K1n",
        "outputId": "c11b86b3-c521-424a-8335-32d33ce13503"
      },
      "source": [
        "vine_df.count()"
      ],
      "execution_count": 12,
      "outputs": [
        {
          "output_type": "execute_result",
          "data": {
            "text/plain": [
              "21"
            ]
          },
          "metadata": {
            "tags": []
          },
          "execution_count": 12
        }
      ]
    },
    {
      "cell_type": "code",
      "metadata": {
        "colab": {
          "base_uri": "https://localhost:8080/"
        },
        "id": "wfy1zHpv2N1Q",
        "outputId": "3f73a2a3-da23-4772-ddc9-744518925405"
      },
      "source": [
        "vine_df.filter(col(\"star_rating\") == 5).count()"
      ],
      "execution_count": 13,
      "outputs": [
        {
          "output_type": "execute_result",
          "data": {
            "text/plain": [
              "11"
            ]
          },
          "metadata": {
            "tags": []
          },
          "execution_count": 13
        }
      ]
    },
    {
      "cell_type": "code",
      "metadata": {
        "colab": {
          "base_uri": "https://localhost:8080/"
        },
        "id": "gJxQSfX02N77",
        "outputId": "fdfcc7e9-8e29-4842-d048-482d0083dc75"
      },
      "source": [
        "#Not part of Vine Program\n",
        "not_vine_df = new_df.filter(col(\"vine\") == \"N\")\n",
        "not_vine_df.show(5)"
      ],
      "execution_count": 14,
      "outputs": [
        {
          "output_type": "stream",
          "text": [
            "+-----------+-----------+--------------+----------+--------------+--------------------+----------------+-----------+-------------+-----------+----+-----------------+--------------------+--------------------+-----------+\n",
            "|marketplace|customer_id|     review_id|product_id|product_parent|       product_title|product_category|star_rating|helpful_votes|total_votes|vine|verified_purchase|     review_headline|         review_body|review_date|\n",
            "+-----------+-----------+--------------+----------+--------------+--------------------+----------------+-----------+-------------+-----------+----+-----------------+--------------------+--------------------+-----------+\n",
            "|         US|   18238567|R16YC6SMGKA8SR|B00MD99R9G|     692935467|Fun Daisy New Des...|         Jewelry|          5|           23|         23|   N|                Y|Beautiful stateme...|This is the first...| 2015-08-31|\n",
            "|         US|   35346149| R5O4WE9UM60B0|B00Q8BYTAW|      48877050|Women's New Simpl...|         Jewelry|          1|           29|         29|   N|                Y|I did expect it t...|Let me preface th...| 2015-08-31|\n",
            "|         US|   41095424|R2EKRVCRC7U0IY|B00PJIPZGW|     677765845|Antique Brass Ton...|         Jewelry|          1|           22|         24|   N|                Y|            One Star|Poor quality!<br ...| 2015-08-31|\n",
            "|         US|    4039595|R2OKV47GETH0L7|B00VUTQVDK|     939458680|Jewelrieshop Stai...|         Jewelry|          5|           24|         24|   N|                Y|     Great ear studs|These are great. ...| 2015-08-31|\n",
            "|         US|   38319820| R36LII9IITE17|B00MB9YCDO|     367067706|ArRord Beautiful ...|         Jewelry|          1|           22|         24|   N|                Y|              AWFUL!|Took 4 weeks to a...| 2015-08-31|\n",
            "+-----------+-----------+--------------+----------+--------------+--------------------+----------------+-----------+-------------+-----------+----+-----------------+--------------------+--------------------+-----------+\n",
            "only showing top 5 rows\n",
            "\n"
          ],
          "name": "stdout"
        }
      ]
    },
    {
      "cell_type": "code",
      "metadata": {
        "colab": {
          "base_uri": "https://localhost:8080/"
        },
        "id": "PX6OJ7zZ2N_K",
        "outputId": "a70526af-2e75-4c3d-c1f3-7987af9ef64f"
      },
      "source": [
        "not_vine_df.count()"
      ],
      "execution_count": 15,
      "outputs": [
        {
          "output_type": "execute_result",
          "data": {
            "text/plain": [
              "7689"
            ]
          },
          "metadata": {
            "tags": []
          },
          "execution_count": 15
        }
      ]
    },
    {
      "cell_type": "code",
      "metadata": {
        "colab": {
          "base_uri": "https://localhost:8080/"
        },
        "id": "rYpbekYl2ODa",
        "outputId": "514bfbab-fe3d-4ebb-e230-d2dc643b7ba4"
      },
      "source": [
        "#unpaid\n",
        "not_vine_df.filter(col(\"star_rating\"\n",
        " ) == 5).count()"
      ],
      "execution_count": 16,
      "outputs": [
        {
          "output_type": "execute_result",
          "data": {
            "text/plain": [
              "4444"
            ]
          },
          "metadata": {
            "tags": []
          },
          "execution_count": 16
        }
      ]
    },
    {
      "cell_type": "code",
      "metadata": {
        "colab": {
          "base_uri": "https://localhost:8080/"
        },
        "id": "dSI5F2Lh2VC8",
        "outputId": "8776b249-c797-487f-d052-c0c5f35d2354"
      },
      "source": [
        "#Total\n",
        "new_df.count()"
      ],
      "execution_count": 17,
      "outputs": [
        {
          "output_type": "execute_result",
          "data": {
            "text/plain": [
              "7710"
            ]
          },
          "metadata": {
            "tags": []
          },
          "execution_count": 17
        }
      ]
    },
    {
      "cell_type": "code",
      "metadata": {
        "colab": {
          "base_uri": "https://localhost:8080/"
        },
        "id": "2mYX2EG72VHV",
        "outputId": "a547b5ca-b1f3-48c7-a2cb-23e7e2f7abd0"
      },
      "source": [
        "#Part of Vine Program\n",
        "for answer in [\"Y\", \"N\"]:\n",
        "  df = new_df.filter(col(\"vine\") == answer)\n",
        "  total_votes = df.count()\n",
        "  total_5_star_votes = df.filter(col(\"star_rating\") == 5).count()\n",
        "  percentage_5_star = total_5_star_votes/total_votes\n",
        "  print(percentage_5_star)"
      ],
      "execution_count": 18,
      "outputs": [
        {
          "output_type": "stream",
          "text": [
            "0.5238095238095238\n",
            "0.5779685264663805\n"
          ],
          "name": "stdout"
        }
      ]
    },
    {
      "cell_type": "code",
      "metadata": {
        "id": "29PWAnS22VKY"
      },
      "source": [
        ""
      ],
      "execution_count": null,
      "outputs": []
    },
    {
      "cell_type": "code",
      "metadata": {
        "id": "0hd_1wNg2VPv"
      },
      "source": [
        ""
      ],
      "execution_count": null,
      "outputs": []
    },
    {
      "cell_type": "code",
      "metadata": {
        "id": "t9ymQua72VUf"
      },
      "source": [
        ""
      ],
      "execution_count": null,
      "outputs": []
    },
    {
      "cell_type": "code",
      "metadata": {
        "id": "OcPe1tGW2VX3"
      },
      "source": [
        ""
      ],
      "execution_count": null,
      "outputs": []
    }
  ]
}